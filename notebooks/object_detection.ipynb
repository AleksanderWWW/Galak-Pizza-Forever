{
 "cells": [
  {
   "cell_type": "code",
   "execution_count": 3,
   "id": "7bccb9d5",
   "metadata": {},
   "outputs": [],
   "source": [
    "import torch\n",
    "\n",
    "from PIL import Image\n",
    "\n",
    "from transformers import AutoFeatureExtractor, ResNetForImageClassification"
   ]
  },
  {
   "cell_type": "code",
   "execution_count": 4,
   "id": "7793830e",
   "metadata": {},
   "outputs": [
    {
     "name": "stderr",
     "output_type": "stream",
     "text": [
      "C:\\Users\\Aleksander\\Desktop\\STARTHACK\\Galak-Pizza-Forever\\starthack\\Lib\\site-packages\\transformers\\models\\convnext\\feature_extraction_convnext.py:28: FutureWarning: The class ConvNextFeatureExtractor is deprecated and will be removed in version 5 of Transformers. Please use ConvNextImageProcessor instead.\n",
      "  warnings.warn(\n"
     ]
    }
   ],
   "source": [
    "feature_extractor = AutoFeatureExtractor.from_pretrained(\"microsoft/resnet-18\")\n",
    "model = ResNetForImageClassification.from_pretrained(\"microsoft/resnet-18\")"
   ]
  },
  {
   "cell_type": "code",
   "execution_count": 5,
   "id": "6df8381b",
   "metadata": {},
   "outputs": [],
   "source": [
    "# input image paths here\n",
    "cabinet_path = r\"C:\\Users\\Aleksander\\Downloads\\cabinet.jpg\"\n",
    "bike_path = r\"C:\\Users\\Aleksander\\Downloads\\bike.png\" "
   ]
  },
  {
   "cell_type": "code",
   "execution_count": 6,
   "id": "833f7ec4",
   "metadata": {},
   "outputs": [],
   "source": [
    "def get_prediction(path: str) -> str:\n",
    "    image = Image.open(path)\n",
    "    inputs = feature_extractor(image, return_tensors=\"pt\")\n",
    "    \n",
    "    with torch.no_grad():\n",
    "        logits = model(**inputs).logits\n",
    "    \n",
    "    predicted_label = logits.argmax(-1).item()\n",
    "    return model.config.id2label[predicted_label]"
   ]
  },
  {
   "cell_type": "code",
   "execution_count": 7,
   "id": "1f7914a4",
   "metadata": {},
   "outputs": [
    {
     "data": {
      "text/plain": [
       "'file, file cabinet, filing cabinet'"
      ]
     },
     "execution_count": 7,
     "metadata": {},
     "output_type": "execute_result"
    }
   ],
   "source": [
    "get_prediction(cabinet_path)"
   ]
  },
  {
   "cell_type": "code",
   "execution_count": 8,
   "id": "4f50839a",
   "metadata": {},
   "outputs": [
    {
     "data": {
      "text/plain": [
       "'tricycle, trike, velocipede'"
      ]
     },
     "execution_count": 8,
     "metadata": {},
     "output_type": "execute_result"
    }
   ],
   "source": [
    "get_prediction(bike_path)"
   ]
  }
 ],
 "metadata": {
  "kernelspec": {
   "display_name": "Python 3 (ipykernel)",
   "language": "python",
   "name": "python3"
  },
  "language_info": {
   "codemirror_mode": {
    "name": "ipython",
    "version": 3
   },
   "file_extension": ".py",
   "mimetype": "text/x-python",
   "name": "python",
   "nbconvert_exporter": "python",
   "pygments_lexer": "ipython3",
   "version": "3.11.2"
  },
  "toc": {
   "base_numbering": 1,
   "nav_menu": {},
   "number_sections": true,
   "sideBar": true,
   "skip_h1_title": false,
   "title_cell": "Table of Contents",
   "title_sidebar": "Contents",
   "toc_cell": false,
   "toc_position": {},
   "toc_section_display": true,
   "toc_window_display": false
  }
 },
 "nbformat": 4,
 "nbformat_minor": 5
}

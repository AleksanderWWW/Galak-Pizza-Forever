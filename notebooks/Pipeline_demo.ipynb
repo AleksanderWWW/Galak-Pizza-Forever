{
 "cells": [
  {
   "cell_type": "markdown",
   "id": "d9896c12",
   "metadata": {},
   "source": [
    "# Image processing"
   ]
  },
  {
   "cell_type": "markdown",
   "id": "4d3a1e92",
   "metadata": {},
   "source": [
    "## Reading an image"
   ]
  },
  {
   "cell_type": "code",
   "execution_count": 2,
   "id": "23b6a2e1",
   "metadata": {},
   "outputs": [],
   "source": [
    "\"\"\"\n",
    "Let's suppose a user uploaded an image of a couch to our app. For demo purposes we will\n",
    "use a local file. Let's read this file.\"\"\"\n",
    "\n",
    "import cv2\n",
    "\n",
    "import numpy as np\n",
    "\n",
    "IMAGE_PATH = \"couch.jpg\"\n",
    "\n",
    "\n",
    "def read_image(im_path: str) -> np.ndarray:\n",
    "    image = cv2.imread(im_path)\n",
    "    return cv2.cvtColor(image, cv2.COLOR_BGR2RGB)"
   ]
  },
  {
   "cell_type": "code",
   "execution_count": 3,
   "id": "95dcc2e5",
   "metadata": {},
   "outputs": [],
   "source": [
    "couch_image = read_image(IMAGE_PATH)"
   ]
  },
  {
   "cell_type": "markdown",
   "id": "79312b3d",
   "metadata": {},
   "source": [
    "## Classification of the item on the image"
   ]
  },
  {
   "cell_type": "code",
   "execution_count": 4,
   "id": "3bd8143f",
   "metadata": {},
   "outputs": [],
   "source": [
    "\"\"\"\n",
    "Now let's actually check what kind of object are we dealing with.\"\"\"\n",
    "\n",
    "import torch\n",
    "\n",
    "from transformers import AutoFeatureExtractor, ResNetForImageClassification"
   ]
  },
  {
   "cell_type": "code",
   "execution_count": 5,
   "id": "2fae3c36",
   "metadata": {},
   "outputs": [],
   "source": [
    "ITEM_CLASSIFICATION_MODEL_NAME = \"microsoft/resnet-18\""
   ]
  },
  {
   "cell_type": "code",
   "execution_count": 6,
   "id": "844fa982",
   "metadata": {},
   "outputs": [
    {
     "name": "stderr",
     "output_type": "stream",
     "text": [
      "C:\\Users\\Aleksander\\Desktop\\STARTHACK\\Galak-Pizza-Forever\\starthack\\Lib\\site-packages\\transformers\\models\\convnext\\feature_extraction_convnext.py:28: FutureWarning: The class ConvNextFeatureExtractor is deprecated and will be removed in version 5 of Transformers. Please use ConvNextImageProcessor instead.\n",
      "  warnings.warn(\n"
     ]
    }
   ],
   "source": [
    "feature_extractor = AutoFeatureExtractor.from_pretrained(ITEM_CLASSIFICATION_MODEL_NAME)\n",
    "model = ResNetForImageClassification.from_pretrained(ITEM_CLASSIFICATION_MODEL_NAME)"
   ]
  },
  {
   "cell_type": "code",
   "execution_count": 7,
   "id": "d271faca",
   "metadata": {},
   "outputs": [],
   "source": [
    "def get_prediction(image: np.ndarray) -> str:\n",
    "    inputs = feature_extractor(image, return_tensors=\"pt\")\n",
    "    \n",
    "    with torch.no_grad():\n",
    "        logits = model(**inputs).logits\n",
    "    \n",
    "    predicted_label = logits.argmax(-1).item()\n",
    "    return model.config.id2label[predicted_label]"
   ]
  },
  {
   "cell_type": "code",
   "execution_count": 8,
   "id": "458f69ba",
   "metadata": {},
   "outputs": [],
   "source": [
    "pred_class = get_prediction(couch_image)"
   ]
  },
  {
   "cell_type": "markdown",
   "id": "7f2e0f99",
   "metadata": {},
   "source": [
    "## Draw bounding boxes - the gateway to estimate the number of stamps"
   ]
  },
  {
   "cell_type": "code",
   "execution_count": 9,
   "id": "b9658f7e",
   "metadata": {},
   "outputs": [],
   "source": [
    "\"\"\"\n",
    "We can use the images to estimate the price that needs to be paid for the item's collection\"\"\"\n",
    "\n",
    "import tensorflow as tf"
   ]
  },
  {
   "cell_type": "code",
   "execution_count": 10,
   "id": "54649fcf",
   "metadata": {},
   "outputs": [],
   "source": [
    "# Load the pre-trained model\n",
    "model_name = 'faster_rcnn_resnet50_v1_640x640_coco17_tpu-8'\n",
    "model_dir = 'models/' + model_name + '/saved_model'\n",
    "model = tf.saved_model.load(model_dir)\n",
    "\n",
    "# Define the input and output tensors\n",
    "input_tensor = model.signatures['serving_default'].inputs[0]\n",
    "output_tensor = model.signatures['serving_default'].outputs"
   ]
  },
  {
   "cell_type": "code",
   "execution_count": 11,
   "id": "2add6667",
   "metadata": {},
   "outputs": [],
   "source": [
    "image_tensor = tf.convert_to_tensor(couch_image)\n",
    "image_tensor = tf.expand_dims(image_tensor, 0)\n",
    "\n",
    "# Predict bounding boxes\n",
    "output_dict = model(image_tensor)\n",
    "\n",
    "# Extract the bounding boxes and confidence scores\n",
    "boxes = output_dict['detection_boxes'][0].numpy()\n",
    "scores = output_dict['detection_scores'][0].numpy()\n",
    "\n",
    "# Filter out low confidence scores\n",
    "high_conf_boxes = boxes[scores > 0.5]\n",
    "\n",
    "# Display the image with the predicted bounding boxes\n",
    "for box in high_conf_boxes:\n",
    "    ymin, xmin, ymax, xmax = box\n",
    "    ymin = int(ymin * couch_image.shape[0])\n",
    "    xmin = int(xmin * couch_image.shape[1])\n",
    "    ymax = int(ymax * couch_image.shape[0])\n",
    "    xmax = int(xmax * couch_image.shape[1])\n",
    "    cv2.rectangle(couch_image, (xmin, ymin), (xmax, ymax), (0, 255, 0), 2)\n",
    "    image = cv2.putText(couch_image, pred_class,  (xmin, ymin-20), cv2.FONT_HERSHEY_SIMPLEX, 0.6, (255,255,255), 1)"
   ]
  },
  {
   "cell_type": "code",
   "execution_count": 12,
   "id": "f013099a",
   "metadata": {},
   "outputs": [],
   "source": [
    "# Let's display the result of our work\n",
    "cv2.imshow('image', image)\n",
    "cv2.waitKey(0)\n",
    "cv2.destroyAllWindows()"
   ]
  },
  {
   "cell_type": "code",
   "execution_count": 15,
   "id": "502a6dbd",
   "metadata": {},
   "outputs": [],
   "source": [
    "\"\"\"\n",
    "Let's suppose that we obtained a weight and size estimation. We can now calculate the number of stamps that need\n",
    "to be purchased\"\"\"\n",
    "\n",
    "MAX_WEIGHT = 30  # kg\n",
    "MAX_LEN = 200  # cm\n",
    "MAX_WIDTH = 90  # cm\n",
    "\n",
    "def calculate_num_stamps(weight: float, length: float, width: float) -> int:\n",
    "    return max(\n",
    "    weight // MAX_WEIGHT,\n",
    "    length // MAX_LEN,\n",
    "    width // MAX_WIDTH\n",
    "    ) + 1\n"
   ]
  },
  {
   "cell_type": "code",
   "execution_count": 17,
   "id": "f8df960c",
   "metadata": {},
   "outputs": [
    {
     "name": "stdout",
     "output_type": "stream",
     "text": [
      "Number of stamps required for this item: 2\n"
     ]
    }
   ],
   "source": [
    "couch_weight = 50\n",
    "couch_lenght = 210\n",
    "couch_width = 70\n",
    "\n",
    "num_stamps = calculate_num_stamps(\n",
    "    couch_weight,\n",
    "    couch_lenght,\n",
    "    couch_width,\n",
    ")\n",
    "\n",
    "print(f\"Number of stamps required for this item: {num_stamps}\")"
   ]
  },
  {
   "cell_type": "code",
   "execution_count": null,
   "id": "86d93bb6",
   "metadata": {},
   "outputs": [],
   "source": []
  }
 ],
 "metadata": {
  "@webio": {
   "lastCommId": null,
   "lastKernelId": null
  },
  "kernelspec": {
   "display_name": "Python 3 (ipykernel)",
   "language": "python",
   "name": "python3"
  },
  "language_info": {
   "codemirror_mode": {
    "name": "ipython",
    "version": 3
   },
   "file_extension": ".py",
   "mimetype": "text/x-python",
   "name": "python",
   "nbconvert_exporter": "python",
   "pygments_lexer": "ipython3",
   "version": "3.11.2"
  },
  "toc": {
   "base_numbering": 1,
   "nav_menu": {},
   "number_sections": false,
   "sideBar": true,
   "skip_h1_title": false,
   "title_cell": "Table of Contents",
   "title_sidebar": "Contents",
   "toc_cell": false,
   "toc_position": {},
   "toc_section_display": true,
   "toc_window_display": false
  }
 },
 "nbformat": 4,
 "nbformat_minor": 5
}

{
 "cells": [
  {
   "cell_type": "code",
   "execution_count": 1,
   "id": "ba631704",
   "metadata": {},
   "outputs": [],
   "source": [
    "mattress_path = r\"C:\\Users\\Aleksander\\Downloads\\mattress.jpg\""
   ]
  },
  {
   "cell_type": "code",
   "execution_count": 2,
   "id": "1f5afb69",
   "metadata": {},
   "outputs": [],
   "source": [
    "import tensorflow as tf\n",
    "import numpy as np\n",
    "import cv2\n",
    "\n",
    "# Load the pre-trained model\n",
    "model_name = 'faster_rcnn_resnet50_v1_640x640_coco17_tpu-8'\n",
    "model_dir = 'models/' + model_name + '/saved_model'\n",
    "model = tf.saved_model.load(model_dir)\n",
    "\n",
    "# Define the input and output tensors\n",
    "input_tensor = model.signatures['serving_default'].inputs[0]\n",
    "output_tensor = model.signatures['serving_default'].outputs\n",
    "\n",
    "\n"
   ]
  },
  {
   "cell_type": "code",
   "execution_count": 4,
   "id": "dfd69243",
   "metadata": {},
   "outputs": [],
   "source": [
    "# Load the image\n",
    "image = cv2.imread(mattress_path)\n",
    "\n",
    "# Preprocess the image\n",
    "image = cv2.cvtColor(image, cv2.COLOR_BGR2RGB)\n",
    "image_tensor = tf.convert_to_tensor(image)\n",
    "image_tensor = tf.expand_dims(image_tensor, 0)\n",
    "\n",
    "# Predict bounding boxes\n",
    "output_dict = model(image_tensor)\n",
    "\n",
    "# Extract the bounding boxes and confidence scores\n",
    "boxes = output_dict['detection_boxes'][0].numpy()\n",
    "scores = output_dict['detection_scores'][0].numpy()\n",
    "\n",
    "# Filter out low confidence scores\n",
    "high_conf_boxes = boxes[scores > 0.5]\n",
    "\n",
    "# Display the image with the predicted bounding boxes\n",
    "for box in high_conf_boxes:\n",
    "    ymin, xmin, ymax, xmax = box\n",
    "    ymin = int(ymin * image.shape[0])\n",
    "    xmin = int(xmin * image.shape[1])\n",
    "    ymax = int(ymax * image.shape[0])\n",
    "    xmax = int(xmax * image.shape[1])\n",
    "    cv2.rectangle(image, (xmin, ymin), (xmax, ymax), (0, 255, 0), 2)\n",
    "\n",
    "cv2.imshow('image', image)\n",
    "cv2.waitKey(0)\n",
    "cv2.destroyAllWindows()"
   ]
  },
  {
   "cell_type": "code",
   "execution_count": null,
   "id": "ab53c3b2",
   "metadata": {},
   "outputs": [],
   "source": []
  }
 ],
 "metadata": {
  "@webio": {
   "lastCommId": null,
   "lastKernelId": null
  },
  "kernelspec": {
   "display_name": "Python 3 (ipykernel)",
   "language": "python",
   "name": "python3"
  },
  "language_info": {
   "codemirror_mode": {
    "name": "ipython",
    "version": 3
   },
   "file_extension": ".py",
   "mimetype": "text/x-python",
   "name": "python",
   "nbconvert_exporter": "python",
   "pygments_lexer": "ipython3",
   "version": "3.11.2"
  },
  "toc": {
   "base_numbering": 1,
   "nav_menu": {},
   "number_sections": true,
   "sideBar": true,
   "skip_h1_title": false,
   "title_cell": "Table of Contents",
   "title_sidebar": "Contents",
   "toc_cell": false,
   "toc_position": {},
   "toc_section_display": true,
   "toc_window_display": false
  }
 },
 "nbformat": 4,
 "nbformat_minor": 5
}
